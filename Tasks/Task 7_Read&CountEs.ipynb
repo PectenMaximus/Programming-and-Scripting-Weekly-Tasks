{
 "cells": [
  {
   "cell_type": "markdown",
   "metadata": {},
   "source": [
    "## Task 7: Read a Text File and Count the Number of 'e's in the Text File\n",
    "\n",
    "**Author:** Alec Reid\n",
    "\n",
    "**Date Commenced:** 13/04/2025\n",
    "\n",
    "----------"
   ]
  },
  {
   "cell_type": "markdown",
   "metadata": {},
   "source": [
    "**Task:** Write a program that reads in a text file and outputs the number of e's it contains. Think about what is being asked here, document any assumptions you are making. The program should take the filename from an argument on the command line. I have not shown you how to do this, you need to look it up. Marks will be given for dealing with errors eg no argument, filename that does not exist, or is not a text file.\n",
    "\n",
    "---------"
   ]
  },
  {
   "cell_type": "markdown",
   "metadata": {},
   "source": [
    "**References**\n",
    "\n",
    "- 'Stop All the Clocks Poem' https://web.cs.dal.ca/~johnston/poetry/stopclocks.html\n",
    "- 'How to Open a txt.file ' https://www.w3schools.com/python/python_file_open.asp\n",
    "- 'Python Workout - word,line and character count in a text file' https://medium.com/@ericvanrees/python-workout-word-line-and-character-count-in-a-text-file-6eff0cb5ef0f\n",
    "\n",
    "---------"
   ]
  },
  {
   "cell_type": "code",
   "execution_count": null,
   "metadata": {},
   "outputs": [],
   "source": [
    "# Read the txt file the git repositry\n",
    "f = open(\"StopAllTheClocks.txt\", \"r\")\n",
    "print(f.read())"
   ]
  },
  {
   "cell_type": "code",
   "execution_count": null,
   "metadata": {},
   "outputs": [
    {
     "name": "stdout",
     "output_type": "stream",
     "text": [
      "number of characters is 803\n",
      "number of words is 148\n",
      "number of unique words is 110\n",
      "number of lines is 27\n"
     ]
    }
   ],
   "source": [
    "# Function to get the general overview of the amount text in the file\n",
    "def word_count():\n",
    "    \n",
    "    inputFile = r\"StopAllTheClocks.txt\"\n",
    "    \n",
    "    count_char = 0\n",
    "    \n",
    "    mylist = []\n",
    "    \n",
    "    with open(inputFile, 'r') as filedata:\n",
    "        \n",
    "        lines = filedata.readlines()\n",
    "                \n",
    "        for line in lines:\n",
    "            \n",
    "                count_char += len(line)\n",
    "                \n",
    "                line = line.split(\" \")\n",
    "\n",
    "                for word in line:\n",
    "                    \n",
    "                    if word != '\\n':                        \n",
    "                    \n",
    "                        mylist.append(word)\n",
    "              \n",
    "    print(f\"number of characters is {count_char}\")\n",
    "    print(f\"number of words is {len(mylist)}\")\n",
    "    print(f\"number of unique words is {len(set(mylist))}\")\n",
    "    print(f\"number of lines is {len(lines)}\")\n",
    "        \n",
    "word_count()"
   ]
  },
  {
   "cell_type": "code",
   "execution_count": 8,
   "metadata": {},
   "outputs": [
    {
     "name": "stdout",
     "output_type": "stream",
     "text": [
      "The number of occurrences of the letter 'e' is: 74\n"
     ]
    }
   ],
   "source": [
    "# Reset the file pointer to the beginning of the file\n",
    "f.seek(0)\n",
    "\n",
    "# Read the content of the file\n",
    "content = f.read()\n",
    "\n",
    "# Count the occurrences of the letter 'e'\n",
    "e_count = content.count('e')\n",
    "\n",
    "print(f\"The number of occurrences of the letter 'e' is: {e_count}\")"
   ]
  }
 ],
 "metadata": {
  "kernelspec": {
   "display_name": "Python 3",
   "language": "python",
   "name": "python3"
  },
  "language_info": {
   "codemirror_mode": {
    "name": "ipython",
    "version": 3
   },
   "file_extension": ".py",
   "mimetype": "text/x-python",
   "name": "python",
   "nbconvert_exporter": "python",
   "pygments_lexer": "ipython3",
   "version": "3.11.9"
  }
 },
 "nbformat": 4,
 "nbformat_minor": 2
}
