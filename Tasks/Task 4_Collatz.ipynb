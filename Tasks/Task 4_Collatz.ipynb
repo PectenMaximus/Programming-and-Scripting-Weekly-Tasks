{
 "cells": [
  {
   "cell_type": "markdown",
   "metadata": {},
   "source": [
    "## Task 2: Bank \n",
    "\n",
    "**Author:** Alec Reid\n",
    "\n",
    "**Date Commenced:** 27/02/2025\n",
    "\n",
    "----------"
   ]
  },
  {
   "cell_type": "markdown",
   "metadata": {},
   "source": [
    "**Task:**\n",
    "\n",
    "- Write a program, called collatz.py, that asks the user to input any positive integer and outputs the successive values of the following calculation.\n",
    "- At each step calculate the next value by taking the current value and, if it is even, divide it by two, but if it is odd, multiply it by three and add one.\n",
    "- Have the program end if the current value is one.\n",
    "\n",
    "---------------"
   ]
  },
  {
   "cell_type": "markdown",
   "metadata": {},
   "source": [
    "**References:**\n",
    "\n",
    "- There is a cool library called ipywidgets which allows for 'interactive browser control in notebooks'which allows the user to interact with the notebook and add the value for cents. \n",
    "- **Reference:** https://ipywidgets.readthedocs.io/en/stable/ \n",
    "\n",
    "- Articles on python code for collatz conjector.\n",
    "- **Reference:** https://hackernoon.com/implementing-3x1-in-python\n",
    "- **Reference:** https://medium.com/@chakshugupta774/exploring-the-collatz-conjecture-with-python-7c5d9f31d233"
   ]
  },
  {
   "cell_type": "code",
   "execution_count": 19,
   "metadata": {},
   "outputs": [],
   "source": [
    "#imports\n",
    "import ipywidgets as widgets\n",
    "from IPython.display import display"
   ]
  },
  {
   "cell_type": "code",
   "execution_count": 20,
   "metadata": {},
   "outputs": [],
   "source": [
    "# Use a loop to apply that if the number is even divide by 2 and if the number odd multiply by 3 rule and add 1\n",
    "# Add a statment to exclude 1 \n",
    "def collatz(number):\n",
    "    # use while function to break the loop\n",
    "    while (number !=1):\n",
    "        if (number%2==0):\n",
    "            number=(number//2)\n",
    "            print(number)\n",
    "        else: # Assume if the number is not divisible by 2 then it is odd\n",
    "            number = ((number*3)+1)\n",
    "            print (number)\n"
   ]
  },
  {
   "cell_type": "code",
   "execution_count": null,
   "metadata": {},
   "outputs": [
    {
     "name": "stdout",
     "output_type": "stream",
     "text": [
      "22\n",
      "11\n",
      "34\n",
      "17\n",
      "52\n",
      "26\n",
      "13\n",
      "40\n",
      "20\n",
      "10\n",
      "5\n",
      "16\n",
      "8\n",
      "4\n",
      "2\n",
      "1\n"
     ]
    }
   ],
   "source": [
    "# Ask the user to input a number\n",
    "number = int(input('Please Enter a Positive Number: '))\n",
    "\n",
    "# Call the function\n",
    "collatz(number)"
   ]
  },
  {
   "cell_type": "code",
   "execution_count": null,
   "metadata": {},
   "outputs": [],
   "source": []
  }
 ],
 "metadata": {
  "kernelspec": {
   "display_name": "Python 3",
   "language": "python",
   "name": "python3"
  },
  "language_info": {
   "codemirror_mode": {
    "name": "ipython",
    "version": 3
   },
   "file_extension": ".py",
   "mimetype": "text/x-python",
   "name": "python",
   "nbconvert_exporter": "python",
   "pygments_lexer": "ipython3",
   "version": "3.11.9"
  }
 },
 "nbformat": 4,
 "nbformat_minor": 2
}
