{
 "cells": [
  {
   "cell_type": "markdown",
   "metadata": {},
   "source": [
    "# Task 3: Accounts\n",
    "\n",
    "**Author:** Alec Reid\n",
    "\n",
    "**Date Created:** 12/02/2025\n",
    "\n",
    "-----------------"
   ]
  },
  {
   "cell_type": "markdown",
   "metadata": {},
   "source": [
    "**Task:**\n",
    "\n",
    "Write a python program called accounts.py that reads in a 10 character account number and outputs the account number with only the last 4 digits showing (and the first 6 digits replaced with Xs)."
   ]
  },
  {
   "cell_type": "code",
   "execution_count": 1,
   "metadata": {},
   "outputs": [],
   "source": [
    "# imports\n",
    "import numpy as np"
   ]
  },
  {
   "cell_type": "code",
   "execution_count": null,
   "metadata": {},
   "outputs": [
    {
     "name": "stdout",
     "output_type": "stream",
     "text": [
      "[4 0 6 8 5 4 1 2 0 6]\n"
     ]
    }
   ],
   "source": [
    "# Generate an array of 10 random numbers from 0 to 10 for the account number\n",
    "account_number = np.random.randint(0, 10, 10)\n",
    "print (account_number)"
   ]
  },
  {
   "cell_type": "code",
   "execution_count": 21,
   "metadata": {},
   "outputs": [
    {
     "name": "stdout",
     "output_type": "stream",
     "text": [
      "****** [1 2 0 6]\n"
     ]
    }
   ],
   "source": [
    "# Print account number with the first 6 values hidden as *\n",
    "print (\"*\" *6, account_number[6:10])\n",
    "\n"
   ]
  },
  {
   "cell_type": "markdown",
   "metadata": {},
   "source": [
    "**Extra Task** - Modify the programme to deal with an accoutn number of any length - I assume this means only show the last 4 digits regardless of the length of the account number. \n"
   ]
  },
  {
   "cell_type": "code",
   "execution_count": 57,
   "metadata": {},
   "outputs": [
    {
     "name": "stdout",
     "output_type": "stream",
     "text": [
      "[3 2 2 4 1 1 1 4 6 1 3 0 7 7 5 6 2]\n",
      "17\n",
      "************* [7 5 6 2]\n"
     ]
    }
   ],
   "source": [
    "# Generate an array of random length with random numbers from 4 to 20\n",
    "# Note the array has to be a minimum of 5 characters long to allow for at least 1 character to be hidden\n",
    "account_number = np.random.randint(0, 10, np.random.randint(5, 20))\n",
    "print (account_number)\n",
    "account_number_length = len(account_number)\n",
    "print (account_number_length)\n",
    "\n",
    "# Print the account number so only the last 4 digitis are visible\n",
    "print (\"*\" * (account_number_length - 4), account_number[account_number_length - 4:account_number_length])"
   ]
  }
 ],
 "metadata": {
  "kernelspec": {
   "display_name": "Python 3",
   "language": "python",
   "name": "python3"
  },
  "language_info": {
   "codemirror_mode": {
    "name": "ipython",
    "version": 3
   },
   "file_extension": ".py",
   "mimetype": "text/x-python",
   "name": "python",
   "nbconvert_exporter": "python",
   "pygments_lexer": "ipython3",
   "version": "3.11.9"
  }
 },
 "nbformat": 4,
 "nbformat_minor": 2
}
