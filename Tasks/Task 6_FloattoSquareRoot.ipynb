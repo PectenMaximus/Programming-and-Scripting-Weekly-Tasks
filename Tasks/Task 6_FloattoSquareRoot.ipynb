{
 "cells": [
  {
   "cell_type": "markdown",
   "metadata": {},
   "source": [
    "## Task 6: FloattoSquareRoot \n",
    "\n",
    "**Author:** Alec Reid\n",
    "\n",
    "**Date Commenced:** 10/03/2025\n",
    "\n",
    "----------"
   ]
  },
  {
   "cell_type": "markdown",
   "metadata": {},
   "source": [
    "**Task:** Write a program that takes a positive floating-point number as input and outputs an approximation of its square root.\n",
    "\n",
    "You should create a function called <tt>sqrt</tt> that does this.\n",
    "\n",
    "---------------"
   ]
  },
  {
   "cell_type": "markdown",
   "metadata": {},
   "source": [
    "**References:**\n",
    "\n",
    "- Totatally stuck here and couldn't understand from online resources so I used AI Git Hub co-pilot.\n",
    "\n",
    "-------------"
   ]
  },
  {
   "cell_type": "code",
   "execution_count": null,
   "metadata": {},
   "outputs": [
    {
     "name": "stdout",
     "output_type": "stream",
     "text": [
      "The approximate square root of 3.5 is 1.8708286933927245\n"
     ]
    }
   ],
   "source": [
    "# Define the function\n",
    "def sqrt(number, tolerance=1e-10):\n",
    "    \"\"\" Calculate the square root of a positive number using the Newton-Raphson method.\n",
    "    \n",
    "    Parameters:\n",
    "    number (float): The number to find the square root of.\n",
    "    tolerance (float): The tolerance for the approximation (default is 1e-10).\n",
    "    \n",
    "    Returns:\n",
    "    float: The approximate square root of the number.\n",
    "    \"\"\"\n",
    "    if number < 0:\n",
    "        raise ValueError(\"Cannot compute the square root of a negative number.\")\n",
    "    \n",
    "    guess = number / 2.0\n",
    "    while abs(guess * guess - number) > tolerance:\n",
    "        guess = (guess + number / guess) / 2.0\n",
    "    return guess\n",
    "    1\n",
    "# Take input from the user\n",
    "number = float(input(\"Enter a positive floating-point number: \"))\n",
    "\n",
    "# Ensure the number is positive\n",
    "if number <= 0:\n",
    "    print(\"Please enter a positive number.\")\n",
    "else:\n",
    "    result = sqrt(number)\n",
    "    print(f\"The approximate square root of {number} is {result}\")"
   ]
  }
 ],
 "metadata": {
  "kernelspec": {
   "display_name": "Python 3",
   "language": "python",
   "name": "python3"
  },
  "language_info": {
   "codemirror_mode": {
    "name": "ipython",
    "version": 3
   },
   "file_extension": ".py",
   "mimetype": "text/x-python",
   "name": "python",
   "nbconvert_exporter": "python",
   "pygments_lexer": "ipython3",
   "version": "3.11.9"
  }
 },
 "nbformat": 4,
 "nbformat_minor": 2
}
