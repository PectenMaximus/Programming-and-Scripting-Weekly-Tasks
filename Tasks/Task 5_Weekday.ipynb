{
 "cells": [
  {
   "cell_type": "markdown",
   "metadata": {},
   "source": [
    "## Task 5: Weekday \n",
    "\n",
    "**Author:** Alec Reid\n",
    "\n",
    "**Date Commenced:** 09/03/2025\n",
    "\n",
    "----------"
   ]
  },
  {
   "cell_type": "markdown",
   "metadata": {},
   "source": [
    "**Task:** Write a program that outputs whether or not today is a weekday. \n",
    "\n",
    "---------------"
   ]
  },
  {
   "cell_type": "markdown",
   "metadata": {},
   "source": [
    "**References:** \n",
    "- Article 'How to check whether the day is a weekday or not using Pandas in Python?' https://www.tutorialspoint.com/how-to-check-whether-the-day-is-a-weekday-or-not-using-pandas-in-python#:~:text=In%20python%2C%20the%20weekday(),indicates%20Tuesday%20and%20so%20on.\n",
    "\n",
    "-------------"
   ]
  },
  {
   "cell_type": "markdown",
   "metadata": {},
   "source": [
    "**Method 1:** \n",
    "\n",
    "The weekday() function can be used to determine whether a given day is a weekday or not. This function returns the day of the week in the form of an integer. Where, 0 indicates Monday, 1 indicates Tuesday and so on."
   ]
  },
  {
   "cell_type": "code",
   "execution_count": 3,
   "metadata": {},
   "outputs": [],
   "source": [
    "# imports \n",
    "import pandas as pd\n"
   ]
  },
  {
   "cell_type": "code",
   "execution_count": null,
   "metadata": {},
   "outputs": [
    {
     "name": "stdout",
     "output_type": "stream",
     "text": [
      "6\n",
      "2025-03-09 00:00:00 is Weekend\n"
     ]
    }
   ],
   "source": [
    "# Set the date \n",
    "date = pd.to_datetime('2025-03-09')\n",
    "print(date.weekday())\n",
    "\n",
    "# Defining if day is weekday or weekend based on integer value \n",
    "if date.weekday() < 5:\n",
    "    print(date,\"bummer it is Weekday\")\n",
    "else:\n",
    "    print(date,\"horay it is the Weekend\")\n"
   ]
  },
  {
   "cell_type": "markdown",
   "metadata": {},
   "source": [
    "**Method 1(b):**\n",
    "\n",
    "Same method but using the (in) function to group week days together in a list"
   ]
  },
  {
   "cell_type": "code",
   "execution_count": null,
   "metadata": {},
   "outputs": [
    {
     "name": "stdout",
     "output_type": "stream",
     "text": [
      "6\n",
      "2025-03-09 00:00:00 is Weekday\n"
     ]
    }
   ],
   "source": [
    "# Set the date \n",
    "date = pd.to_datetime('2025-03-09')\n",
    "print(date.weekday())\n",
    "\n",
    "# Defining if day is weekday or weekend based on integer value (Days 1 to 5 are Weekdays, Days 6-7 are Weekend)\n",
    "if date.weekday() in [1,2,3,4,5]:\n",
    "    print(date,\"bummer it is Weekday\")\n",
    "else:\n",
    "    print(date,\"horay it is the Weekend\")"
   ]
  },
  {
   "cell_type": "markdown",
   "metadata": {},
   "source": [
    "**Method 2:**\n",
    "\n",
    "The day_name() function - \n"
   ]
  },
  {
   "cell_type": "code",
   "execution_count": null,
   "metadata": {},
   "outputs": [],
   "source": [
    "# Imports\n",
    "import pandas as pd"
   ]
  },
  {
   "cell_type": "code",
   "execution_count": 21,
   "metadata": {},
   "outputs": [
    {
     "name": "stdout",
     "output_type": "stream",
     "text": [
      "Sunday\n",
      "2025-03-09 00:00:00 horay it is the Weekend\n"
     ]
    }
   ],
   "source": [
    "#Set the date \n",
    "date = pd.to_datetime('2025-03-09')\n",
    "print(date.day_name())\n",
    "\n",
    "# Deifne the weekdays and create the list to draw weekday conclusion from\n",
    "if date.day_name() in ['Monday', 'Tuesday', 'Wednesday', 'Thursday', 'Friday']:\n",
    "    print(date,\"bummer it is Weekday\")\n",
    "else:\n",
    "    print(date,\"horay it is the Weekend\")"
   ]
  },
  {
   "cell_type": "markdown",
   "metadata": {},
   "source": [
    "Modify code to allow user to enter a date:"
   ]
  },
  {
   "cell_type": "code",
   "execution_count": null,
   "metadata": {},
   "outputs": [
    {
     "name": "stdout",
     "output_type": "stream",
     "text": [
      "Sunday\n",
      "2025-03-23 00:00:00 is Weekend\n"
     ]
    }
   ],
   "source": [
    "#Input the date \n",
    "date = pd.to_datetime(input('YYYY-MM-DD'))\n",
    "print(date.day_name())\n",
    "\n",
    "# Deifne the weekdays and create the list to draw weekday conclusion from\n",
    "if date.day_name() in ['Monday', 'Tuesday', 'Wednesday', 'Thursday', 'Friday']:\n",
    "    print(date,\"bummer it is Weekday\")\n",
    "else:\n",
    "    print(date,\"horay it is the Weekend\")"
   ]
  }
 ],
 "metadata": {
  "kernelspec": {
   "display_name": "Python 3",
   "language": "python",
   "name": "python3"
  },
  "language_info": {
   "codemirror_mode": {
    "name": "ipython",
    "version": 3
   },
   "file_extension": ".py",
   "mimetype": "text/x-python",
   "name": "python",
   "nbconvert_exporter": "python",
   "pygments_lexer": "ipython3",
   "version": "3.11.9"
  }
 },
 "nbformat": 4,
 "nbformat_minor": 2
}
