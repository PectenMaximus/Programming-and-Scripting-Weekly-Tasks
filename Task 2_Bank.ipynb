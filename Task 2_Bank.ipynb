{
 "cells": [
  {
   "cell_type": "markdown",
   "metadata": {},
   "source": [
    "## Task 2: Bank \n",
    "\n",
    "**Author:** Alec Reid\n",
    "\n",
    "**Date Commenced:** 11/02/2025\n",
    "\n",
    "----------"
   ]
  },
  {
   "cell_type": "markdown",
   "metadata": {},
   "source": [
    "Basic approach to add the amounts in cents and then divide by 100 to get a euro value. "
   ]
  },
  {
   "cell_type": "code",
   "execution_count": 5,
   "metadata": {},
   "outputs": [
    {
     "name": "stdout",
     "output_type": "stream",
     "text": [
      "The total amount of money is: € 0.66\n"
     ]
    }
   ],
   "source": [
    "# Enter an amouunt of money in cents\n",
    "Amount_1 = int(input(\"Enter an amount of money in cents: \"))\n",
    "Amount_2 = int(input(\"Enter an amount of money in cents: \"))\n",
    "Total = float(Amount_1 + Amount_2)\n",
    "print (\"The total amount of money is: €\",  Total/100)\n"
   ]
  },
  {
   "cell_type": "markdown",
   "metadata": {},
   "source": [
    "There is a cool library called ipywidgets which allows for 'interactive browser control in notebooks'which allows the user to interact with the notebook and add the value for cents. \n",
    "\n",
    "Reference: https://ipywidgets.readthedocs.io/en/stable/ "
   ]
  },
  {
   "cell_type": "code",
   "execution_count": 1,
   "metadata": {},
   "outputs": [],
   "source": [
    "#imports\n",
    "import ipywidgets as widgets\n",
    "from IPython.display import display"
   ]
  },
  {
   "cell_type": "code",
   "execution_count": null,
   "metadata": {},
   "outputs": [
    {
     "data": {
      "application/vnd.jupyter.widget-view+json": {
       "model_id": "7b2c25e647cc45a3a76563a34c2a1a6a",
       "version_major": 2,
       "version_minor": 0
      },
      "text/plain": [
       "Text(value='', description='Amount 1:', placeholder='Enter an amount of money in cents')"
      ]
     },
     "metadata": {},
     "output_type": "display_data"
    },
    {
     "data": {
      "application/vnd.jupyter.widget-view+json": {
       "model_id": "1a485be3e192462cacdbaa2c099311d1",
       "version_major": 2,
       "version_minor": 0
      },
      "text/plain": [
       "Text(value='', description='Amount 2:', placeholder='Enter an amount of money in cents')"
      ]
     },
     "metadata": {},
     "output_type": "display_data"
    },
    {
     "data": {
      "application/vnd.jupyter.widget-view+json": {
       "model_id": "2c4f15a72d4c441e98e220bae13e2d79",
       "version_major": 2,
       "version_minor": 0
      },
      "text/plain": [
       "Button(description='Calculate Total in Euro', style=ButtonStyle())"
      ]
     },
     "metadata": {},
     "output_type": "display_data"
    },
    {
     "name": "stdout",
     "output_type": "stream",
     "text": [
      "Total amount in euro:€7.56\n"
     ]
    },
    {
     "ename": "",
     "evalue": "",
     "output_type": "error",
     "traceback": [
      "\u001b[1;31mThe Kernel crashed while executing code in the current cell or a previous cell. \n",
      "\u001b[1;31mPlease review the code in the cell(s) to identify a possible cause of the failure. \n",
      "\u001b[1;31mClick <a href='https://aka.ms/vscodeJupyterKernelCrash'>here</a> for more info. \n",
      "\u001b[1;31mView Jupyter <a href='command:jupyter.viewOutput'>log</a> for further details."
     ]
    }
   ],
   "source": [
    "# Create text input widgets for user input using widgets.Text() function\n",
    "# I used Git Hub Co-Pilot to generate the code below\n",
    "amount_1_widget = widgets.Text(\n",
    "    value='',\n",
    "    placeholder='Enter an amount of money in cents',\n",
    "    description='Amount 1:',\n",
    "    disabled=False\n",
    ")\n",
    "\n",
    "amount_2_widget = widgets.Text(\n",
    "    value='',\n",
    "    placeholder='Enter an amount of money in cents',\n",
    "    description='Amount 2:',\n",
    "    disabled=False\n",
    ")\n",
    "\n",
    "# Display the widgets\n",
    "display(amount_1_widget, amount_2_widget)\n",
    "\n",
    "# Function to calculate the total amount\n",
    "def calculate_total(amount_1, amount_2):\n",
    "    try:\n",
    "        amount_1 = int(amount_1)\n",
    "        amount_2 = int(amount_2)\n",
    "        total = amount_1 + amount_2\n",
    "        print(f'Total amount in euro:€{total/100}')\n",
    "    except ValueError:\n",
    "        print('Please enter valid integer amounts.')\n",
    "\n",
    "# Button to trigger the calculation\n",
    "calculate_button = widgets.Button(description=\"Calculate Total in Euro\")\n",
    "display(calculate_button)\n",
    "\n",
    "# Event handler for button click\n",
    "def on_calculate_button_clicked(b):\n",
    "    calculate_total(amount_1_widget.value, amount_2_widget.value)\n",
    "\n",
    "calculate_button.on_click(on_calculate_button_clicked)"
   ]
  }
 ],
 "metadata": {
  "kernelspec": {
   "display_name": "Python 3",
   "language": "python",
   "name": "python3"
  },
  "language_info": {
   "codemirror_mode": {
    "name": "ipython",
    "version": 3
   },
   "file_extension": ".py",
   "mimetype": "text/x-python",
   "name": "python",
   "nbconvert_exporter": "python",
   "pygments_lexer": "ipython3",
   "version": "3.11.9"
  }
 },
 "nbformat": 4,
 "nbformat_minor": 2
}
